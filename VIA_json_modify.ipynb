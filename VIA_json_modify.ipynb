{
 "cells": [
  {
   "cell_type": "code",
   "execution_count": 1,
   "metadata": {},
   "outputs": [],
   "source": [
    "import json\n",
    "import numpy as np\n",
    "from iteration_utilities import duplicates\n",
    "from iteration_utilities import unique_everseen"
   ]
  },
  {
   "cell_type": "code",
   "execution_count": 11,
   "metadata": {},
   "outputs": [
    {
     "name": "stdout",
     "output_type": "stream",
     "text": [
      "452\n",
      "重複:  []\n"
     ]
    }
   ],
   "source": [
    "with open(\"./train246810_all/5_results.json\",\"r\") as f:#anno-groundtruth #results-prediction\n",
    "    data = json.load(f)\n",
    "\n",
    "\n",
    "prediction=json_modify_results(data)\n",
    "\n",
    "file_name = './train246810_all/5_prediction.json'\n",
    "with open(file_name,'w') as outfile:\n",
    "    json.dump(prediction, outfile,ensure_ascii=False)"
   ]
  },
  {
   "cell_type": "code",
   "execution_count": 12,
   "metadata": {},
   "outputs": [
    {
     "name": "stdout",
     "output_type": "stream",
     "text": [
      "1256\n",
      "重複:  []\n"
     ]
    }
   ],
   "source": [
    "with open(\"./train246810_all/5_anno.json\",\"r\") as f:\n",
    "    data = json.load(f)\n",
    "\n",
    "\n",
    "prediction=json_modify_results(data)\n",
    "\n",
    "file_name = './train246810_all/5_groundtruth.json'\n",
    "with open(file_name,'w') as outfile:\n",
    "    json.dump(prediction, outfile,ensure_ascii=False)"
   ]
  },
  {
   "cell_type": "code",
   "execution_count": null,
   "metadata": {},
   "outputs": [],
   "source": []
  },
  {
   "cell_type": "code",
   "execution_count": null,
   "metadata": {},
   "outputs": [],
   "source": []
  },
  {
   "cell_type": "code",
   "execution_count": 2,
   "metadata": {},
   "outputs": [],
   "source": [
    "def json_modify_results(data):\n",
    "    object1 = []\n",
    "    for k in range(len(data)):\n",
    "        if len([i for i in data[k].values()][:-1][1])==1: #如果是[1]\n",
    "            a = [j[0] for j in data[k].values()]  \n",
    "            object1.append(a)\n",
    "    object2 = []\n",
    "    for h in range(2):\n",
    "        for j in range(len(data)):\n",
    "            if len([i for i in data[j].values()][:-1][1])==2: #如果是[2,2]\n",
    "                a_1 = [k[h] for k in ([i for i in data[j].values()][:-1])]+[[i[0] for i in data[j].values()][-1]] ###[2,2]的第二個\n",
    "                object2.append(a_1)\n",
    "    object3 = []\n",
    "    for h in range(3):\n",
    "        for j in range(len(data)):\n",
    "            if len([i for i in data[j].values()][:-1][1])==3: #如果是[2,2,2]\n",
    "                a_1 = [k[h] for k in ([i for i in data[j].values()][:-1])]+[[i[0] for i in data[j].values()][-1]] \n",
    "                object3.append(a_1)\n",
    "\n",
    "    object4 = []\n",
    "    for h in range(4):\n",
    "        for j in range(len(data)):\n",
    "            if len([i for i in data[j].values()][:-1][1])==4: #如果是[2,2,2,2]\n",
    "                a_1 = [k[h] for k in ([i for i in data[j].values()][:-1])]+[[i[0] for i in data[j].values()][-1]] \n",
    "                object4.append(a_1)\n",
    "\n",
    "    object5 = []\n",
    "    for h in range(5):\n",
    "        for j in range(len(data)):\n",
    "            if len([i for i in data[j].values()][:-1][1])==5: #如果是[2,2,2,2]\n",
    "                a_1 = [k[h] for k in ([i for i in data[j].values()][:-1])]+[[i[0] for i in data[j].values()][-1]] \n",
    "                object5.append(a_1)\n",
    "                \n",
    "    prediction = object1 + object2 + object3 + object4 + object5\n",
    "    print(len(prediction))\n",
    "    \n",
    "    ## 找重複 \n",
    "    samelist_1 = list(unique_everseen(duplicates(prediction)))\n",
    "    print(\"重複: \",samelist_1)\n",
    "    \n",
    "    return prediction\n",
    "\n"
   ]
  },
  {
   "cell_type": "code",
   "execution_count": null,
   "metadata": {},
   "outputs": [],
   "source": []
  },
  {
   "cell_type": "code",
   "execution_count": null,
   "metadata": {},
   "outputs": [],
   "source": []
  },
  {
   "cell_type": "code",
   "execution_count": null,
   "metadata": {},
   "outputs": [],
   "source": []
  },
  {
   "cell_type": "code",
   "execution_count": null,
   "metadata": {},
   "outputs": [],
   "source": []
  }
 ],
 "metadata": {
  "kernelspec": {
   "display_name": "Python 3",
   "language": "python",
   "name": "python3"
  },
  "language_info": {
   "codemirror_mode": {
    "name": "ipython",
    "version": 3
   },
   "file_extension": ".py",
   "mimetype": "text/x-python",
   "name": "python",
   "nbconvert_exporter": "python",
   "pygments_lexer": "ipython3",
   "version": "3.8.3"
  }
 },
 "nbformat": 4,
 "nbformat_minor": 4
}
